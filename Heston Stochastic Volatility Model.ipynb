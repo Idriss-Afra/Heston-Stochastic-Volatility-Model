{
 "cells": [
  {
   "cell_type": "markdown",
   "metadata": {
    "id": "VQQv1BgEoLku"
   },
   "source": [
    "# Heston Stochastic Volatility Model\n",
    "------------------\n",
    "> **Idriss Afra**\n",
    "\n",
    "This project aims to implement the Heston model (1993) and price Volatility Swaps."
   ]
  },
  {
   "cell_type": "markdown",
   "metadata": {
    "id": "R16rqMsHpBtg"
   },
   "source": [
    "## Model Dynamics\n",
    "The Heston model is defined by the following pair of SDEs under the Risk-Neutral measure :   \n",
    "\n",
    "\\begin{equation}\n",
    "\\begin{split}\n",
    "dS_t & = (r_t - q_t) \\times S_t \\times dt + \\sqrt(V_t) \\times S_t \\times dW^S_t \\\\\n",
    "dV_t & = κ (θ - V_t) dt + σ \\sqrt(V_t) dW^V_t \\\\\n",
    "d<W^S, W^V>_t & = ρ × dt\n",
    "\\end{split}\n",
    "\\end{equation}\n",
    "\n",
    "Where :    \n",
    "- $S_t$ is the stock or index price\n",
    "- $r_t$ is the deterministic instantaneous forward interest rate\n",
    "- $q_t$ is the deterministic instantaneous forward dividend yield\n",
    "- $V_t$ is the stochastic spot's variance\n",
    "- $κ$ is the rate of reversion to the long-term price variance\n",
    "- $θ$ is the long-term price variance\n",
    "- $σ$ is the volatility of the stochastic volatility $\\sqrt(V_t)$\n",
    "- $\\left(W^S, W^V\\right)$ are $ρ$-correlated standard brownian motions\n",
    "\n",
    "The Heston model assumes a mean-reverting stochastic variance, which makes it produce more realistic dynamics compared to Black-Scholes or Local Volatility models. Therefore, the Heston model is more suitable for long-maturity and forward-start derivatives. However, its calibration is quite complex due to the number of unkown parameters, and hence, its fit to market options prices may be too poor."
   ]
  },
  {
   "cell_type": "markdown",
   "metadata": {
    "id": "tafLjkmJtL0o"
   },
   "source": [
    "## Vanilla Heston Price\n",
    "\n",
    "### The Fourier Inversion Theorem\n",
    "This theorem links the cumulative distribution function $F_X$ to the characteristic function $ϕ_X$ :\n",
    "\n",
    "\\begin{equation}\n",
    "\\begin{split}\n",
    "F_X(x) & = \\frac{1}{2} - \\frac{1}{2π} ∫_{-∞}^{+∞} \\frac{e^{-iux} ϕ_X(u)}{iu} du\\\\\n",
    "& = \\frac{1}{2} - \\frac{1}{2π} ∫_{-∞}^{+∞} Re\\left(\\frac{e^{-iux} ϕ_X(u)}{iu}\\right) du \\\\\n",
    "& = \\frac{1}{2} - \\frac{1}{π} ∫_{0}^{+∞} Re\\left(\\frac{e^{-iux} ϕ_X(u)}{iu} \\right) du \\\\\n",
    "\\end{split}\n",
    "\\end{equation}\n",
    "\n",
    "### The Characteristic Function\n",
    "Let $X_t = log(S_t)$ and suppose that the underlying does not pay dividends.\n",
    "\n",
    "In this case : $dX_t = (r_t - \\frac{V_t}{2})dt + \\sqrt(V_t) dW^S_t$\n",
    "\n",
    "Therefore, the characteristic function of $X_T$ at $t$ is :    \n",
    "\n",
    "$$\n",
    "ϕ_{X_T}(u, t) = f\\left(u, t, X_t, V_t\\right) = E^{RN}\\left(e^{iuX_T} | X_t, V_t\\right)\n",
    "$$\n",
    "\n",
    "$\\left(ϕ_{X_T}(., t)\\right)_{t \\le T}$ is a Martingale since it is a conditional expected value.\n",
    "\n",
    "Applying the Itô's lemma and making its drift equal to zero gives the following PDE under the Risk-Neutral measure:     \n",
    "\n",
    "$$\n",
    "f_t' + \\left(r_t - \\frac{V_t}{2}\\right)f_x' + κ (θ - V_t)f_v' + \\frac{V_t}{2}f_{xx}'' + \\frac{\\sigma^2 V_t}{2}f_{vv}'' + σ V_t ρ f_{xv}'' = 0\n",
    "$$\n",
    "\n",
    "Further, we know that the characteristic function $\\left(ϕ_{X_T}(., t)\\right)_{t \\le T}$ has the following exponential affine form :\n",
    "\n",
    "$$\n",
    "ϕ_{X_T}(u, t) = f\\left(u, t, X_t, V_t\\right) = e^{A(t, T) + B(t, T) X_t + C(t, T) V_t +iuX_t}\n",
    "$$\n",
    "\n",
    "With : $ϕ_{X_T}(u, T) = f\\left(u, T, x, v\\right) = e^{iux}$\n",
    "\n",
    "We inject this affine form in the above PDE and solve analytically the functions $A(t, T)$, $B(t, T)$, and $C(t, T)$ :\n",
    "\n",
    "\\begin{equation}\n",
    "\\begin{split}\n",
    "A(\\tau) & = \\bar{r}_{t,T} i u \\tau + \\frac{κθ}{σ^2} \\left(-(ρσiu - κ - M)τ -2log\\left(\\frac{1-Ne^{Mτ}}{1-N}\\right) \\right) \\\\\n",
    "B(τ) & = 0 \\\\\n",
    "C(τ) & = \\frac{(e^{Mτ} - 1)(ρσiu - κ - M)}{σ^2 (1-Ne^{Mτ})} \\\\\n",
    "\\text{Where :} \\\\\n",
    "τ & = T - t\\\\\n",
    "\\bar{r}_{t,T} & = \\frac{1}{τ} \\int_t^Tr_u du \\\\\n",
    "M & = \\sqrt{(ρσiu - κ)^2 + σ^2 (iu + u^2)} \\\\\n",
    "N & = \\frac{ρσiu - κ - M}{ρσiu - κ + M} \\\\\n",
    "\\end{split}\n",
    "\\end{equation}\n",
    "\n",
    "### The Vanilla Price Formula\n",
    "The call option price is :\n",
    "\n",
    "\\begin{equation}\n",
    "\\begin{split}\n",
    "C_t(T, K) & = e^{-\\bar{r}_{t,T} (T-t)} E^{RN}\\left( (S_T-K)^+ \\right) \\\\\n",
    "& = e^{-\\bar{r}_{t,T} (T-t)} E^{RN}\\left(1_{S_T>K}S_T\\right) - K e^{-\\bar{r}_{t,T} (T-t)} E^{RN}\\left(1_{S_T>K}\\right)\n",
    "\\end{split}\n",
    "\\end{equation}\n",
    "\n",
    "Where :\n",
    "\\begin{equation}\n",
    "\\begin{split}\n",
    "E^{RN}\\left(1_{S_T>K}\\right) & = P^{RN}\\left(S_T>K\\right) \\\\\n",
    "& = 1 - F_{X_T}\\left(log(K)\\right) \\\\\n",
    "& = \\frac{1}{2} + \\frac{1}{π} ∫_{0}^{+∞} Re\\left(\\frac{K^{-iu} ϕ_{X_{T}}(u)}{iu}\\right) du \\\\\n",
    "\\end{split}\n",
    "\\end{equation}\n",
    "\n",
    "On the other hand, by using the Radon-Nikodym theorem :\n",
    "\n",
    "$$\n",
    "e^{-\\bar{r}_{t,T} (T-t)} E^{RN}\\left(1_{S_T>K}S_T\\right) = S_t E^{S}\\left(1_{S_T>K}\\right) = S_t P^{S}\\left(S_T>K\\right)\n",
    "$$\n",
    "\n",
    "<br>Then, under the Spot measure :\n",
    "\n",
    "\\begin{equation}\n",
    "\\begin{split}\n",
    "S_t E^{S}\\left(1_{S_T>K}\\right) & = S_t P^{S}\\left(S_T>K\\right) \\\\\n",
    "&= S_t \\left(1 - F^{S}_{X_T}(K)\\right) \\\\\n",
    "&= S_t \\left(  \\frac{1}{2} + \\frac{1}{π} ∫_{0}^{+∞} Re\\left(\\frac{K^{-iu} ϕ^{S}_{X_{T}}(u)}{iu}\\right)du \\right)\\\\\n",
    "& = \\frac{S_t}{2} + \\frac{e^{-\\bar{r}_{t,T} (T-t)}}{π} ∫_{0}^{+∞} Re\\left(\\frac{K^{-iu} ϕ_{X_{T}}(u-i)}{iu}\\right) du \\\\\n",
    "\\end{split}\n",
    "\\end{equation}\n",
    "\n",
    "Where :\n",
    "\n",
    "\\begin{equation}\n",
    "\\begin{split}\n",
    "ϕ^{S}_{X_{T}}(u) & = E^{S}_{t}\\left(e^{iuX_T}\\right) \\\\\n",
    "&= E^{RN}_{t}\\left( \\frac{S_T}{S_t e^{\\bar{r}_{t,T} (T-t)}} e^{iuX_T}\\right) \\\\\n",
    "&= \\frac{e^{-\\bar{r}_{t,T} (T-t)}}{S_t} E^{RN}_{t}\\left(e^{(1+iu)X_T}\\right) \\\\\n",
    "&= \\frac{e^{-\\bar{r}_{t,T} (T-t)}}{S_t} ϕ_{X_{T}}(u - i) \\\\\n",
    "\\end{split}\n",
    "\\end{equation}\n",
    "\n",
    "And finally :\n",
    "\n",
    "$$\n",
    "C_t(T, K) = \\frac{S_t}{2} + \\frac{e^{-\\bar{r}_{t,T} (T-t)}}{π} ∫_{0}^{+∞} Re\\left(\\frac{K^{-iu} ϕ_{X_{T}}(u-i)}{iu}\\right)du - K e^{-\\bar{r}_{t,T} (T-t)} \\left( \\frac{1}{2} + \\frac{1}{π} ∫_{0}^{+∞} Re\\left(\\frac{K^{-iu} ϕ_{X_{T}}(u)}{iu}\\right) du  \\right)\n",
    "$$\n",
    "\n",
    "The put option price can then be computed using the call/put parity."
   ]
  },
  {
   "cell_type": "code",
   "execution_count": 1,
   "metadata": {
    "id": "27TJ0W5bi2as"
   },
   "outputs": [],
   "source": [
    "import math\n",
    "import cmath\n",
    "from scipy.integrate import quad\n",
    "\n",
    "# Vanilla Option Price under the Heston model (1993)\n",
    "\n",
    "def characteristic_func(params, u, r, T, X0) :\n",
    "    \"\"\"\n",
    "    The characteristic function of ln(S(T)) under the Heston model.\n",
    "    \"\"\"\n",
    "    # Heston parameters :\n",
    "    kappa = params[\"Kappa\"]\n",
    "    theta = params[\"Theta\"]\n",
    "    initVar = params[\"Initial Variance\"]\n",
    "    corr = params[\"Correlation\"]\n",
    "    sigma = params[\"Volatility Of Volatility\"]\n",
    "\n",
    "    # Intermediate parameters :\n",
    "    L = corr * sigma * 1j * u\n",
    "    M = cmath.sqrt((L - kappa)**2 + sigma**2 * (1j * u + u**2))\n",
    "    N = (L - kappa - M) / (L - kappa + M)\n",
    "    M_T = M * T\n",
    "\n",
    "    # Intermediate functions :\n",
    "    A_T = r * 1j * u * T + (kappa * theta / sigma**2) * (-T * (L - kappa - M) - 2 * cmath.log((1 - N * cmath.exp(M_T)) / (1 - N)))\n",
    "    C_T = (cmath.exp(M_T) - 1) * (L - kappa - M) / ((1 - N * cmath.exp(M_T)) * sigma**2)\n",
    "\n",
    "    # Analytical solution of the Heston characteristic function :\n",
    "    return cmath.exp(A_T + C_T * initVar + 1j * u * X0)\n",
    "\n",
    "def integral_1(params, r, T, S0, K) :\n",
    "    \"\"\"\n",
    "    The first integration : We use the quad SciPy method based on the Fortran library QUADPACK.\n",
    "    We choose to use 4000 as the upper bound instead of math.inf to reduce the execution time and to prevent having numbers outside the range of doubles.\n",
    "    \"\"\"\n",
    "    func = lambda u : (K**(-1j * u) * characteristic_func(params, u - 1j, r, T, math.log(S0)) / (1j * u)).real\n",
    "    return quad(func, 0, 4000)[0] #math.inf\n",
    "\n",
    "def integral_2(params, r, T, S0, K) :\n",
    "    \"\"\"\n",
    "    The second integration : We use the quad SciPy method based on the Fortran library QUADPACK.\n",
    "    We choose to use 4000 as the upper bound instead of math.inf to reduce the execution time and to prevent having numbers outside the range of doubles.\n",
    "    \"\"\"\n",
    "    func = lambda u : (K**(-1j * u) * characteristic_func(params, u, r, T, math.log(S0)) / (1j * u)).real\n",
    "    return quad(func, 0, 4000)[0] #math.inf\n",
    "\n",
    "def heston_vanilla(params, S0, K, T, r, flavor) :\n",
    "    \"\"\"\n",
    "    Vanilla price under the Heston model.\n",
    "    The Put prices are deduced from the Call / Put parity.\n",
    "    \"\"\"\n",
    "    call_price = 0.5 * S0 + math.exp(-r * T) * integral_1(params, r, T, S0, K) / math.pi - K * math.exp(-r * T) * (0.5 + integral_2(params, r, T, S0, K) / math.pi)\n",
    "    return call_price if flavor.upper()==\"CALL\" else call_price - S0 + K * math.exp(-r * T)\n"
   ]
  },
  {
   "cell_type": "markdown",
   "metadata": {
    "id": "PjQ6uSGK9iIj"
   },
   "source": [
    "Let's make the Heston prices match the Black-Scholes prices..."
   ]
  },
  {
   "cell_type": "code",
   "execution_count": 2,
   "metadata": {
    "colab": {
     "base_uri": "https://localhost:8080/"
    },
    "id": "PXRpckiy7QCs",
    "outputId": "689f4849-63de-41b5-8cdd-75eb7b15b8a5"
   },
   "outputs": [
    {
     "name": "stdout",
     "output_type": "stream",
     "text": [
      "The test case : Call option with Spot=100, K=90, T=1, r=0.015, and vol=0.2\n",
      "To match Heston and Black models, we set the following parameter values : \n",
      "{'Kappa': 0, 'Theta': 0.04, 'Initial Variance': 0.04, 'Correlation': 0, 'Volatility Of Volatility': 1e-06}\n",
      "-----------------------------------------------------------------------------------------------------------\n",
      "The Heston price : 14.498532\n",
      "The Black price : 14.498532\n"
     ]
    }
   ],
   "source": [
    "from scipy.stats import norm\n",
    "\n",
    "def black_scholes(flavor, K, T, S, r, vol, q=0) :\n",
    "    \"\"\"\n",
    "    The Black-Scholes price.\n",
    "    \"\"\"\n",
    "    v2T = vol**2 * T\n",
    "    d1 = (math.log(S/K) + (r - q) * T + v2T / 2) / v2T**0.5\n",
    "    d2 = d1 - v2T**0.5\n",
    "    phi = 1 if flavor.upper() == \"CALL\" else  -1\n",
    "    return phi * (S * math.exp(-q * T) * norm.cdf(phi * d1) - K * math.exp(-r * T) * norm.cdf(phi * d2))\n",
    "\n",
    "# Degenerated Test\n",
    "S, K, T, r, sigma = 100, 90, 1, 0.015, 0.2\n",
    "print(\"The test case : Call option with Spot={}, K={}, T={}, r={}, and vol={}\".format(S, K, T, r, sigma))\n",
    "print(\"To match Heston and Black models, we set the following parameter values : \")\n",
    "params = {\"Kappa\" : 0, \"Theta\" : round(sigma**2, 2), \"Initial Variance\" : round(sigma**2, 2), \"Correlation\" : 0, \"Volatility Of Volatility\" : 0.000001}\n",
    "print(params)\n",
    "print(\"-----------------------------------------------------------------------------------------------------------\")\n",
    "print(\"The Heston price : {:.6f}\".format(heston_vanilla(params, 100, 90, 1, 0.015, \"Call\")))\n",
    "print(\"The Black price : {:.6f}\".format(black_scholes(\"Call\", 90, 1, 100, 0.015, 0.2)))"
   ]
  },
  {
   "cell_type": "markdown",
   "metadata": {
    "id": "CsaHB7-i9kty"
   },
   "source": [
    "## Heston Calibration\n",
    "In order to use the Heston model, we need to set its five different parameters : $κ$, $θ$, $V_0$, $ρ$, and $σ$.\n",
    "\n",
    "The rate of reversion $κ$ is generally given as input. The remaining parameters are then calibrated by minimizing the following error function :    \n",
    "\n",
    "$$\n",
    "(θ, V_0, ρ, σ) = ArgMin \\left( \\frac{1}{M} ∑_{i = 1}^M\\left(Price_{i}^{Heston}(θ, V_0, ρ, σ) - Price_{i}^{Market}\\right)^2 \\right)\n",
    "$$\n",
    "\n",
    "<br>In this project, we use the **differential_evolution** SciPy method which finds the global minimum of a multivariate function. This method does not need initial guess values and can handle constraints.\n",
    "\n",
    "In order to reduce the execution time and simplify the minimization problem, $ρ$ and $σ$ are estimated using historical data."
   ]
  },
  {
   "cell_type": "code",
   "execution_count": 3,
   "metadata": {
    "id": "7LLN1siW8SmY"
   },
   "outputs": [],
   "source": [
    "from scipy.optimize import differential_evolution, NonlinearConstraint\n",
    "\n",
    "# We ignore the differential_evolution warnings for display purposes\n",
    "import warnings\n",
    "warnings.filterwarnings(\"ignore\")\n",
    "\n",
    "def heston_calibration(S0, zc_rate, T, strikes, flavors, prices, corr, vol, kappa = 0.02) :\n",
    "    \"\"\"\n",
    "    Heston calibration algorithm : Kappa is given in input, Corr and Vol of Vol are estimated via historical analysis.\n",
    "    \"\"\"\n",
    "    # Theta and V0 bounds\n",
    "    bounds = ((0.0001, 1), (0.0001, 1))\n",
    "\n",
    "    # The constraint 2 * Kappa * Theta > VolOfVol**2 is needed to make sure that the stochastic variance is strictly positive\n",
    "    def constraint(params) :\n",
    "        return 2 * kappa * params[0] - vol**2\n",
    "    nlc = NonlinearConstraint(constraint, 1e-6, np.inf)\n",
    "\n",
    "    # The global minimization algorithm stops when the objective function reaches 1e-4 or after finding 10 different local minimum points\n",
    "    def stop_early(xk, convergence):\n",
    "        error = obj_func(xk, S0, zc_rate, T, strikes, flavors, prices, kappa, corr, vol)\n",
    "        stop_early.counter += 1\n",
    "        print(\"Local minimum point number {} : {}\".format(stop_early.counter, round(error, 6)))\n",
    "        if error < 1e-4 or  stop_early.counter == 10:\n",
    "            return True\n",
    "    stop_early.counter = 0\n",
    "\n",
    "    res = differential_evolution(obj_func, args=(S0, zc_rate, T, strikes, flavors, prices, kappa, corr, vol),\n",
    "                                bounds=bounds,\n",
    "                                constraints=(nlc),\n",
    "                                callback=stop_early)\n",
    "    return res.x\n",
    "\n",
    "def obj_func(parameters, S0, zc_rate, T, strikes, flavors, prices, kappa, corr, vol) :\n",
    "    \"\"\"\n",
    "    The objective function of the Heston calibration process.\n",
    "    \"\"\"\n",
    "    nb_instrs = 0\n",
    "    sse = 0\n",
    "    params = {\"Kappa\" : kappa, \"Theta\" : parameters[0], \"Initial Variance\" : parameters[1], \"Correlation\" : corr, \"Volatility Of Volatility\" : vol}\n",
    "    for j in range(len(strikes)) :\n",
    "        sse += (prices[j] - heston_vanilla(params, S0, strikes[j], T, zc_rate, flavors[j]))**2\n",
    "        nb_instrs += 1\n",
    "    return sse / nb_instrs\n"
   ]
  },
  {
   "cell_type": "markdown",
   "metadata": {
    "id": "kFi47w7-DbXA"
   },
   "source": [
    "## Application : META US Equity\n",
    "Let us calibrate the Heston model on Meta US Equity European Options asof June 15th 2023."
   ]
  },
  {
   "cell_type": "code",
   "execution_count": 4,
   "metadata": {
    "id": "XJnu1oOgtW_f"
   },
   "outputs": [],
   "source": [
    "from datetime import date\n",
    "import numpy as np\n",
    "\n",
    "# Today date\n",
    "now_date = date(2023, 6, 15)\n",
    "\n",
    "\"\"\"\n",
    "Meta US Equity Data :\n",
    "\"\"\"\n",
    "# Spot Price\n",
    "S0 = 281.83\n",
    "\n",
    "# Meta US Market Data of the Tenor 6M (It does not pay Dividends!!)\n",
    "market_tenor = date(2023, 12, 15)\n",
    "T = (market_tenor - now_date).days / 365\n",
    "fwd = 289.65\n",
    "zc_rate = math.log(fwd / S0) / T\n",
    "market_strikes_6m = np.array([270, 275, 280, 285, 290, 295])\n",
    "market_flavors_6m = np.array([\"Put\"] * 4 + [\"Call\"] * 2)\n",
    "market_prices_6m = np.array([22.4, 24.55, 26.85, 29.25, 30.5, 28.2])\n",
    "\n",
    "# Historical Analysis Stats :\n",
    "corr = 0.06\n",
    "vol_of_vol = 0.006"
   ]
  },
  {
   "cell_type": "code",
   "execution_count": 5,
   "metadata": {
    "colab": {
     "base_uri": "https://localhost:8080/"
    },
    "id": "AVJ06PhLOCmt",
    "outputId": "4611f887-5f2f-4ba5-eb34-911af16091e7"
   },
   "outputs": [
    {
     "name": "stdout",
     "output_type": "stream",
     "text": [
      "Heston Calibration : \n",
      "-----------------------------------------------------\n",
      "Local minimum point number 1 : 1.11991\n",
      "Local minimum point number 2 : 1.11991\n",
      "Local minimum point number 3 : 0.685535\n",
      "Local minimum point number 4 : 0.503036\n",
      "Local minimum point number 5 : 0.473814\n",
      "Local minimum point number 6 : 0.429254\n",
      "Local minimum point number 7 : 0.422605\n",
      "Local minimum point number 8 : 0.422605\n",
      "Local minimum point number 9 : 0.422605\n",
      "Local minimum point number 10 : 0.42228\n",
      "-----------------------------------------------------\n",
      "End of calibration after : 81.71s\n",
      "-----------------------------------------------------\n",
      "Results :\n"
     ]
    },
    {
     "data": {
      "text/plain": [
       "{'Kappa': 0.02,\n",
       " 'Theta': 0.5829,\n",
       " 'Initial Variance': 0.1548,\n",
       " 'Correlation': 0.06,\n",
       " 'Volatility Of Volatility': 0.006}"
      ]
     },
     "execution_count": 5,
     "metadata": {},
     "output_type": "execute_result"
    }
   ],
   "source": [
    "import timeit\n",
    "\n",
    "kappa = 0.02\n",
    "\n",
    "print(\"Heston Calibration : \")\n",
    "print(\"-----------------------------------------------------\")\n",
    "start = timeit.default_timer()\n",
    "params = heston_calibration(S0, zc_rate, T, market_strikes_6m, market_flavors_6m, market_prices_6m, corr, vol_of_vol, kappa)\n",
    "stop = timeit.default_timer()\n",
    "print(\"-----------------------------------------------------\")\n",
    "print(\"End of calibration after : {:.2f}s\".format(stop - start))\n",
    "print(\"-----------------------------------------------------\")\n",
    "print(\"Results :\")\n",
    "parameters = {\"Kappa\" : kappa, \"Theta\" : round(params[0], 4), \"Initial Variance\" : round(params[1], 4), \"Correlation\" : corr, \"Volatility Of Volatility\" : vol_of_vol}\n",
    "parameters"
   ]
  },
  {
   "cell_type": "code",
   "execution_count": 6,
   "metadata": {
    "colab": {
     "base_uri": "https://localhost:8080/",
     "height": 923
    },
    "id": "FU_YpxFwMEND",
    "outputId": "e4735171-ce19-4377-b748-50a065d5d300"
   },
   "outputs": [
    {
     "name": "stdout",
     "output_type": "stream",
     "text": [
      "Market Prices vs Heston Calibrated Prices :\n",
      "---------------------------------------------\n",
      "Heston Price :  21.7496\n",
      "Market Price :  22.4\n",
      "Absolute Calibration Error :  0.6504\n",
      "---------------------------------------------\n",
      "Heston Price :  24.0324\n",
      "Market Price :  24.55\n",
      "Absolute Calibration Error :  0.5176\n",
      "---------------------------------------------\n",
      "Heston Price :  26.4408\n",
      "Market Price :  26.85\n",
      "Absolute Calibration Error :  0.4092\n",
      "---------------------------------------------\n",
      "Heston Price :  28.9727\n",
      "Market Price :  29.25\n",
      "Absolute Calibration Error :  0.2773\n",
      "---------------------------------------------\n",
      "Heston Price :  31.2851\n",
      "Market Price :  30.5\n",
      "Absolute Calibration Error :  0.7851\n",
      "---------------------------------------------\n",
      "Heston Price :  29.191\n",
      "Market Price :  28.2\n",
      "Absolute Calibration Error :  0.991\n",
      "---------------------------------------------\n"
     ]
    },
    {
     "data": {
      "image/png": "[encoded data removed]",
      "text/plain": [
       "<Figure size 432x288 with 1 Axes>"
      ]
     },
     "metadata": {
      "needs_background": "light"
     },
     "output_type": "display_data"
    }
   ],
   "source": [
    "import matplotlib.pyplot as plt\n",
    "\n",
    "print(\"Market Prices vs Heston Calibrated Prices :\")\n",
    "print(\"---------------------------------------------\")\n",
    "\n",
    "heston_prices = []\n",
    "for j in range(len(market_strikes_6m)) :\n",
    "    heston_price = heston_vanilla(parameters, S0, market_strikes_6m[j], T, zc_rate, market_flavors_6m[j])\n",
    "    heston_prices.append(heston_price)\n",
    "    market_price = market_prices_6m[j]\n",
    "    print(\"Heston Price : \", round(heston_price, 4))\n",
    "    print(\"Market Price : \", round(market_price, 4))\n",
    "    print(\"Absolute Calibration Error : \", round(abs(heston_price - market_price), 4))\n",
    "    print(\"---------------------------------------------\")\n",
    "\n",
    "plt.title(\"Heston Calibration Results\")\n",
    "plt.ylabel(\"Vanilla Prices\")\n",
    "plt.xlabel(\"Strikes\")\n",
    "plt.scatter(market_strikes_6m, market_prices_6m, color=\"red\", label=\"Market (BS) Prices \" + str(market_tenor))\n",
    "plt.scatter(market_strikes_6m, heston_prices, color=\"blue\", label=\"Heston Prices \" + str(market_tenor))\n",
    "plt.legend(loc=\"lower right\")\n",
    "plt.show()"
   ]
  },
  {
   "cell_type": "markdown",
   "metadata": {
    "id": "FvQWEk02Dhmz"
   },
   "source": [
    "##Fair Variance Strike\n",
    "The Fair Variance Strike $K_{Var}$ is written as : $\\frac{1}{T}∫_0^TE(V_t)dt$, where $(V_t)_{t \\ge 0}$ is the stochastic spot's variance.\n",
    "\n",
    "The Fair Variance is computed  analytically under the Heston model. In fact, since :\n",
    "\n",
    "$$\n",
    "V_T = V_0 + ∫_0^Tκ(θ - V_t)dt+∫_0^Tσ\\sqrt(V_t) dW^V_t\n",
    "$$\n",
    "\n",
    "Then :\n",
    "$$\n",
    "E(V_T) = V_0 + κθT - κ∫_0^T E(V_t)dt\n",
    "$$\n",
    "\n",
    "Which implies the following ODE :           \n",
    "$$\n",
    "\\frac{dE(V_T)}{dT} = κθ - κE(V_T)\n",
    "$$\n",
    "\n",
    "With the following solution :    \n",
    "$$\n",
    "E(V_T) = θ + (V_0 - θ) e^{-κT}\n",
    "$$\n",
    "\n",
    "And finally:\n",
    "$$\n",
    "K_{Var} = \\frac{1}{T} ∫_0^T E(V_T) = \\frac{1 - e^{-κT}}{κT} V_0 + \\left(1 - \\frac{1 - e^{-κT}}{κT}\\right) θ\n",
    "$$"
   ]
  },
  {
   "cell_type": "code",
   "execution_count": 7,
   "metadata": {
    "id": "Rf7NvRUcRe9y"
   },
   "outputs": [],
   "source": [
    "def fair_var_strike(params, T):\n",
    "    \"\"\"\n",
    "    The Heston Fair Var Strike up to T\n",
    "    \"\"\"\n",
    "    # Heston parameters :\n",
    "    kappa = params[\"Kappa\"]\n",
    "    theta = params[\"Theta\"]\n",
    "    initVar = params[\"Initial Variance\"]\n",
    "    corr = params[\"Correlation\"]\n",
    "    sigma = params[\"Volatility Of Volatility\"]\n",
    "\n",
    "    # Intermediate parameters :\n",
    "    K_T = kappa * T\n",
    "    exp_K_T = (1 - math.exp(- K_T)) / K_T\n",
    "\n",
    "    return initVar * exp_K_T + theta * (1 - exp_K_T)"
   ]
  },
  {
   "cell_type": "code",
   "execution_count": 8,
   "metadata": {
    "colab": {
     "base_uri": "https://localhost:8080/"
    },
    "id": "LJKQfGkcVLVN",
    "outputId": "fac532f2-d1f2-4eca-a7fe-cc2c1085c41e"
   },
   "outputs": [
    {
     "name": "stdout",
     "output_type": "stream",
     "text": [
      "The Fair Variance up to 2023-12-15 is : 15.6939%\n"
     ]
    }
   ],
   "source": [
    "fair_var = fair_var_strike(parameters, T)\n",
    "print(\"The Fair Variance up to {} is : {:.4f}%\".format(market_tenor, 100*fair_var))"
   ]
  },
  {
   "cell_type": "code",
   "execution_count": 9,
   "metadata": {
    "colab": {
     "base_uri": "https://localhost:8080/"
    },
    "id": "zs6RtUBOfdNe",
    "outputId": "daddf9af-58d3-4bf8-ff09-6f7b5b79d381"
   },
   "outputs": [
    {
     "name": "stdout",
     "output_type": "stream",
     "text": [
      "The square root of the Fair Variance up to 2023-12-15 is : 39.6156%\n"
     ]
    }
   ],
   "source": [
    "sqrt_fair_var = math.sqrt(fair_var)\n",
    "print(\"The square root of the Fair Variance up to {} is : {:.4f}%\".format(market_tenor, 100*sqrt_fair_var))"
   ]
  },
  {
   "cell_type": "markdown",
   "metadata": {
    "id": "dCoGTsgeDlc2"
   },
   "source": [
    "## Fair Volatility Strike\n",
    "The Fair Volatility Strike $K_{Vol}$ is written as : $∫_0^TE\\left(\\sqrt{\\frac{1}{T}V_t dt}\\right)$, where $(V_t)_{t \\ge 0}$ is the stochastic spot's variance.\n",
    "\n",
    "### Volatility Convexity Adjustment\n",
    "Since the square root function is concave, the Jensen inequality gives the following result :    \n",
    "\n",
    "$$\n",
    "K_{Vol} = ∫_0^TE\\left(\\sqrt{\\frac{1}{T}V_t dt}\\right) \\le \\sqrt{K_{Var}} = \\sqrt{ \\frac{1}{T}∫_0^TE(V_t)dt }\n",
    "$$\n",
    "\n",
    "Therefore, $∃VolConvAdj < 0$ such that :    \n",
    "$$\n",
    "K_{Vol} = \\sqrt{K_{Var}} + VolConvAdj\n",
    "$$\n",
    "\n",
    "### Heston Fair Volatility\n",
    "The Taylor expansion formula of the square root function is :  \n",
    "$$\n",
    "\\sqrt{X} ≈ \\sqrt{X_0} + \\frac{1}{2\\sqrt{X_0}} \\left(X-X_0\\right) - \\frac{1}{8\\sqrt{X_0}^3} \\left(X-X_0\\right)^2\n",
    "$$\n",
    "\n",
    "By noticing that the $Var\\left(\\frac{1}{T}∫_0^TV_t dt\\right)$ is generally quite small, we can set $X = \\frac{1}{T}∫_0^TV_t dt$ and $X_0=E(X)$.\n",
    "\n",
    "Therefore :\n",
    "$$\n",
    "\\sqrt{\\frac{1}{T}∫_0^TV_t dt} ≈ \\sqrt{E\\left(\\frac{1}{T}∫_0^TV_t dt\\right)} + \\frac{1}{2\\sqrt{E\\left(\\frac{1}{T}∫_0^TV_t dt\\right)}} \\left(\\frac{1}{T}∫_0^TV_t dt-E\\left(\\frac{1}{T}∫_0^TV_t dt\\right)\\right) - \\frac{1}{8\\sqrt{E\\left(\\frac{1}{T}∫_0^TV_t dt\\right)}^3} \\left(\\frac{1}{T}∫_0^TV_t dt-E\\left(\\frac{1}{T}∫_0^TV_t dt\\right)\\right)^2\n",
    "$$\n",
    "\n",
    "We inject the expectation operator :\n",
    "\n",
    "$$\n",
    "E\\left(\\sqrt{\\frac{1}{T}∫_0^TV_t dt}\\right) ≈ \\sqrt{K_{Var}}  - \\frac{1}{8\\sqrt{K_{Var}}^3} E\\left(\\left(\\frac{1}{T}∫_0^TV_t dt-K_{Var}\\right)^2\\right)\n",
    "$$\n",
    "\n",
    "Finally :\n",
    "$$\n",
    "K_{Vol} ≈ \\sqrt{K_{Var}}  - \\frac{1}{8\\sqrt{K_{Var}}^3} Var\\left(\\frac{1}{T}∫_0^TV_t dt\\right)\n",
    "$$\n",
    "\n",
    "Where :\n",
    "\n",
    "$$\n",
    "Var\\left(\\frac{1}{T}∫_0^TV_t dt\\right) = \\frac{σ^2 e^{-2κT}}{2 T^2 κ^3} \\left( \\left(V_0 - θ\\right) \\left(2κTe^{κT} - 3 e^{2κT} + 4 e^{κT} - 1\\right) + θ \\left(2κTe^{2κT} - 3 e^{2κT} + 4 e^{κT} - 1\\right) \\right)\n",
    "$$"
   ]
  },
  {
   "cell_type": "code",
   "execution_count": 10,
   "metadata": {
    "id": "aDrO9HJTVWjB"
   },
   "outputs": [],
   "source": [
    "def fair_vol_adj(params, T):\n",
    "    \"\"\"\n",
    "    The Heston Vol Convexity Adjustment up to T.\n",
    "    \"\"\"\n",
    "    # Heston parameters :\n",
    "    kappa = params[\"Kappa\"]\n",
    "    theta = params[\"Theta\"]\n",
    "    initVar = params[\"Initial Variance\"]\n",
    "    corr = params[\"Correlation\"]\n",
    "    sigma = params[\"Volatility Of Volatility\"]\n",
    "\n",
    "    # Intermediate parameters :\n",
    "    K_T = kappa * T\n",
    "    exp_K_T = math.exp(K_T)\n",
    "    var_of_var = sigma**2 * math.exp(K_T)**(-2) * ((initVar - theta) * (2 * K_T * exp_K_T + 4 * exp_K_T - 3 * exp_K_T**2 - 1) + theta * (2 * K_T * exp_K_T**2 + 4 * exp_K_T - 3 * exp_K_T**2 - 1)) / (2 * K_T**2 * kappa)\n",
    "    fair_var = fair_var_strike(params, T)\n",
    "\n",
    "    # Volatility Convexity Adjustment\n",
    "    return - var_of_var / (8 * fair_var**1.5)\n",
    "\n",
    "def fair_vol_strike(params, T):\n",
    "    \"\"\"\n",
    "    The Heston Fair Vol Strike up to T\n",
    "    \"\"\"\n",
    "    fair_var = fair_var_strike(params, T)\n",
    "    return math.sqrt(fair_var) + fair_vol_adj(params, T)\n"
   ]
  },
  {
   "cell_type": "code",
   "execution_count": 11,
   "metadata": {
    "colab": {
     "base_uri": "https://localhost:8080/"
    },
    "id": "es-8V6HW6WGy",
    "outputId": "fd7eecc5-3a14-4742-98fe-db48d62892d7"
   },
   "outputs": [
    {
     "name": "stdout",
     "output_type": "stream",
     "text": [
      "The Fair Volatility up to 2023-12-15 is : 39.4612%\n"
     ]
    }
   ],
   "source": [
    "fair_vol = fair_vol_strike(parameters, T)\n",
    "print(\"The Fair Volatility up to {} is : {:.4f}%\".format(market_tenor, 100*fair_vol))"
   ]
  },
  {
   "cell_type": "code",
   "execution_count": 12,
   "metadata": {
    "colab": {
     "base_uri": "https://localhost:8080/"
    },
    "id": "y7fTdM2UfjCv",
    "outputId": "dff90853-1833-45c1-e5e5-5d9c4bac2d86"
   },
   "outputs": [
    {
     "name": "stdout",
     "output_type": "stream",
     "text": [
      "The Volatility Convexity Adjustment up to 2023-12-15 is : -0.1543%\n"
     ]
    }
   ],
   "source": [
    "conv_adj = fair_vol_adj(parameters, T)\n",
    "print(\"The Volatility Convexity Adjustment up to {} is : {:.4f}%\".format(market_tenor, 100*conv_adj))"
   ]
  },
  {
   "cell_type": "code",
   "execution_count": 13,
   "metadata": {
    "colab": {
     "base_uri": "https://localhost:8080/"
    },
    "id": "A7B2fq24gm_Q",
    "outputId": "f39d5ac3-a406-44d5-e754-b7e8fadb1ce2"
   },
   "outputs": [
    {
     "name": "stdout",
     "output_type": "stream",
     "text": [
      "The Variance of the overall stochastic variance up to 2023-12-15 is : 0.0768%\n",
      "It is indeed quite small...\n"
     ]
    }
   ],
   "source": [
    "var_of_var = - conv_adj * (8 * fair_var**1.5)\n",
    "print(\"The Variance of the overall stochastic variance up to {} is : {:.4f}%\".format(market_tenor, 100*var_of_var))\n",
    "print(\"It is indeed quite small...\")"
   ]
  }
 ],
 "metadata": {
  "colab": {
   "provenance": []
  },
  "kernelspec": {
   "display_name": "Python 3 (ipykernel)",
   "language": "python",
   "name": "python3"
  },
  "language_info": {
   "codemirror_mode": {
    "name": "ipython",
    "version": 3
   },
   "file_extension": ".py",
   "mimetype": "text/x-python",
   "name": "python",
   "nbconvert_exporter": "python",
   "pygments_lexer": "ipython3",
   "version": "3.9.12"
  }
 },
 "nbformat": 4,
 "nbformat_minor": 1
}
